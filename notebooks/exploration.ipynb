{
 "cells": [
  {
   "cell_type": "markdown",
   "metadata": {},
   "source": [
    "# Exploration of openaq data\n",
    "\n",
    "This notebook explains the exploration of openaq sqs data. The goal is to:\n",
    "- Read in openaq sqs data\n",
    "- Have an understanding of the different attributes\n",
    "- Perform a comparison with public openaq data\n",
    "- Perform a more in depth study on\n",
    "    - Location attributes\n",
    "    - data frequency and completeness\n"
   ]
  },
  {
   "cell_type": "code",
   "execution_count": 2,
   "metadata": {},
   "outputs": [],
   "source": [
    "# imports and environment setup\n",
    "import json\n",
    "import sys\n",
    "import logging\n",
    "\n",
    "import boto3\n",
    "\n",
    "import polars as pl\n",
    "import matplotlib.pyplot as plt\n",
    "\n",
    "\n",
    "from geopy.geocoders import Nominatim\n",
    "from geopy import distance\n",
    "\n",
    "sys.path.append(\"../config\")\n",
    "from _secrets import profile_name, region_name, queue_url\n",
    "\n",
    "\n",
    "logging.basicConfig(level=logging.INFO)\n",
    "#logging.basicConfig(format='%(asctime)s - %(name)s - %(levelname)s - %(message)s')\n",
    "\n",
    "boto3.setup_default_session(profile_name=profile_name)\n"
   ]
  },
  {
   "cell_type": "markdown",
   "metadata": {},
   "source": [
    "## Read in openaq sqs messages\n",
    "\n",
    "Messages are read in from the queue and saved locally. The functionallity to get the messages is implemented in the openaqtools.sqs library and is based on ther boto3 package. The extra functionallity allows to get all the messages on the queue as well as transforming them to a polars dataframe. The process of saving the data locally is not included, hence is executed manually in the code below.\n",
    "\n",
    "Possible improvements:\n",
    "- Logging mechanism in Jupyter notebook was not functioning correctly so loggings al set as warnings\n",
    "- Currently only the content of the message is processed. Metadata could also be explored\n",
    "- Automation of local storage. Currently local storage could accidentaly be overwritten.\n"
   ]
  },
  {
   "cell_type": "code",
   "execution_count": 3,
   "metadata": {},
   "outputs": [
    {
     "data": {
      "text/html": [
       "<div><style>\n",
       ".dataframe > thead > tr > th,\n",
       ".dataframe > tbody > tr > td {\n",
       "  text-align: right;\n",
       "  white-space: pre-wrap;\n",
       "}\n",
       "</style>\n",
       "<small>shape: (5, 15)</small><table border=\"1\" class=\"dataframe\"><thead><tr><th>locationId</th><th>location</th><th>parameter</th><th>value</th><th>utc</th><th>local</th><th>unit</th><th>latitude</th><th>longitude</th><th>country</th><th>city</th><th>isMobile</th><th>isAnalysis</th><th>entity</th><th>sensorType</th></tr><tr><td>i64</td><td>str</td><td>str</td><td>f64</td><td>datetime[μs]</td><td>datetime[μs, UTC]</td><td>str</td><td>f64</td><td>f64</td><td>str</td><td>str</td><td>bool</td><td>bool</td><td>str</td><td>str</td></tr></thead><tbody><tr><td>3450</td><td>&quot;Massenhoven&quot;</td><td>&quot;pm10&quot;</td><td>22.824282</td><td>2023-10-28 16:16:54.554860</td><td>2023-10-28 14:16:54.554860 UTC</td><td>&quot;µg/m³&quot;</td><td>51.198627</td><td>4.6364247</td><td>&quot;BE&quot;</td><td>&quot;Massenhoven&quot;</td><td>true</td><td>true</td><td>&quot;radio&quot;</td><td>&quot;low-cost&quot;</td></tr><tr><td>3450</td><td>&quot;Massenhoven&quot;</td><td>&quot;pm25&quot;</td><td>1.63125</td><td>2023-10-28 17:11:41.554582</td><td>2023-10-28 15:11:41.554582 UTC</td><td>&quot;µg/m³&quot;</td><td>51.198627</td><td>4.6364247</td><td>&quot;BE&quot;</td><td>&quot;Massenhoven&quot;</td><td>true</td><td>true</td><td>&quot;radio&quot;</td><td>&quot;low-cost&quot;</td></tr><tr><td>3119</td><td>&quot;Goetsenhoven&quot;</td><td>&quot;pm25&quot;</td><td>8.7466</td><td>2023-10-28 16:19:09.553996</td><td>2023-10-28 14:19:09.553996 UTC</td><td>&quot;µg/m³&quot;</td><td>50.76781</td><td>4.95114</td><td>&quot;BE&quot;</td><td>&quot;Goetsenhoven&quot;</td><td>false</td><td>true</td><td>&quot;hot&quot;</td><td>&quot;reference grad…</td></tr><tr><td>8857</td><td>&quot;Watervliet&quot;</td><td>&quot;no2&quot;</td><td>99.9</td><td>2023-10-28 16:33:48.553533</td><td>2023-10-28 14:33:48.553533 UTC</td><td>&quot;µg/m³&quot;</td><td>51.276517</td><td>3.6270198</td><td>&quot;BE&quot;</td><td>&quot;Watervliet&quot;</td><td>false</td><td>false</td><td>&quot;particularly&quot;</td><td>&quot;low-cost&quot;</td></tr><tr><td>8857</td><td>&quot;Watervliet&quot;</td><td>&quot;pm25&quot;</td><td>11.508267</td><td>2023-10-28 16:28:30.553649</td><td>2023-10-28 14:28:30.553649 UTC</td><td>&quot;µg/m³&quot;</td><td>51.276517</td><td>3.6270198</td><td>&quot;BE&quot;</td><td>&quot;Watervliet&quot;</td><td>false</td><td>false</td><td>&quot;particularly&quot;</td><td>&quot;low-cost&quot;</td></tr></tbody></table></div>"
      ],
      "text/plain": [
       "shape: (5, 15)\n",
       "┌───────────┬───────────┬───────────┬───────────┬───┬──────────┬───────────┬───────────┬───────────┐\n",
       "│ locationI ┆ location  ┆ parameter ┆ value     ┆ … ┆ isMobile ┆ isAnalysi ┆ entity    ┆ sensorTyp │\n",
       "│ d         ┆ ---       ┆ ---       ┆ ---       ┆   ┆ ---      ┆ s         ┆ ---       ┆ e         │\n",
       "│ ---       ┆ str       ┆ str       ┆ f64       ┆   ┆ bool     ┆ ---       ┆ str       ┆ ---       │\n",
       "│ i64       ┆           ┆           ┆           ┆   ┆          ┆ bool      ┆           ┆ str       │\n",
       "╞═══════════╪═══════════╪═══════════╪═══════════╪═══╪══════════╪═══════════╪═══════════╪═══════════╡\n",
       "│ 3450      ┆ Massenhov ┆ pm10      ┆ 22.824282 ┆ … ┆ true     ┆ true      ┆ radio     ┆ low-cost  │\n",
       "│           ┆ en        ┆           ┆           ┆   ┆          ┆           ┆           ┆           │\n",
       "│ 3450      ┆ Massenhov ┆ pm25      ┆ 1.63125   ┆ … ┆ true     ┆ true      ┆ radio     ┆ low-cost  │\n",
       "│           ┆ en        ┆           ┆           ┆   ┆          ┆           ┆           ┆           │\n",
       "│ 3119      ┆ Goetsenho ┆ pm25      ┆ 8.7466    ┆ … ┆ false    ┆ true      ┆ hot       ┆ reference │\n",
       "│           ┆ ven       ┆           ┆           ┆   ┆          ┆           ┆           ┆ grade     │\n",
       "│ 8857      ┆ Watervlie ┆ no2       ┆ 99.9      ┆ … ┆ false    ┆ false     ┆ particula ┆ low-cost  │\n",
       "│           ┆ t         ┆           ┆           ┆   ┆          ┆           ┆ rly       ┆           │\n",
       "│ 8857      ┆ Watervlie ┆ pm25      ┆ 11.508267 ┆ … ┆ false    ┆ false     ┆ particula ┆ low-cost  │\n",
       "│           ┆ t         ┆           ┆           ┆   ┆          ┆           ┆ rly       ┆           │\n",
       "└───────────┴───────────┴───────────┴───────────┴───┴──────────┴───────────┴───────────┴───────────┘"
      ]
     },
     "execution_count": 3,
     "metadata": {},
     "output_type": "execute_result"
    }
   ],
   "source": [
    "from openaqtools.sqs import receive_messages, messages_to_df\n",
    "\n",
    "message_filename = \"../data/messages.parquet\"\n",
    "\n",
    "# option1: read in locally\n",
    "df_messages = pl.read_parquet(message_filename)\n",
    "\n",
    "# option2: retreive from AWS (watch out with saving to parquet!)\n",
    "# messages = receive_messages(queue_url, region_name, max_nr_messages=50)\n",
    "# df_messages = messages_to_df(messages)\n",
    "#df_messages.write_parquet(message_filename)\n",
    "\n",
    "# Basic processing of raw data\n",
    "df_messages = df_messages.unnest(\"date\", \"coordinates\")\n",
    "df_messages = df_messages.with_columns(pl.col([\"utc\", \"local\"]).str.to_datetime())\n",
    "\n",
    "# show some data\n",
    "df_messages.head()\n"
   ]
  },
  {
   "cell_type": "markdown",
   "metadata": {},
   "source": [
    "## Read in public openaq data\n",
    "\n",
    "Below we do a spotcheck to see chat is in the public dataset. The goal is to see if the same data is available. Data is fetched via a python library: https://py-openaq.readthedocs.io/en/latest/\n",
    "\n",
    "Some conclusions:\n",
    "- Data in public openaq resource is not equal to data in sqs que:\n",
    "    - Averaging periods and source name are not available in sqs data\n",
    "    - isMobile, isAnalysis, entity and sensorType are not available in public dataset"
   ]
  },
  {
   "cell_type": "code",
   "execution_count": 16,
   "metadata": {},
   "outputs": [
    {
     "name": "stdout",
     "output_type": "stream",
     "text": [
      "[\n",
      "  200,\n",
      "  {\n",
      "    \"meta\": {\n",
      "      \"name\": \"openaq-api\",\n",
      "      \"license\": \"\",\n",
      "      \"website\": \"/\",\n",
      "      \"page\": 1,\n",
      "      \"limit\": 1,\n",
      "      \"found\": 19,\n",
      "      \"pages\": 19\n",
      "    },\n",
      "    \"results\": [\n",
      "      {\n",
      "        \"location\": \"BETM802\",\n",
      "        \"city\": \"Antwerpen\",\n",
      "        \"country\": \"BE\",\n",
      "        \"coordinates\": {\n",
      "          \"latitude\": 51.2609897078635,\n",
      "          \"longitude\": 4.42439900693533\n",
      "        },\n",
      "        \"measurements\": [\n",
      "          {\n",
      "            \"parameter\": \"no2\",\n",
      "            \"value\": 10.5,\n",
      "            \"lastUpdated\": \"2023-11-01T10:00:00+00:00\",\n",
      "            \"unit\": \"\\u00b5g/m\\u00b3\",\n",
      "            \"sourceName\": \"EEA Belgium\",\n",
      "            \"averagingPeriod\": {\n",
      "              \"value\": 3600,\n",
      "              \"unit\": \"seconds\"\n",
      "            }\n",
      "          },\n",
      "          {\n",
      "            \"parameter\": \"so2\",\n",
      "            \"value\": 3.5,\n",
      "            \"lastUpdated\": \"2017-03-14T11:00:00+00:00\",\n",
      "            \"unit\": \"\\u00b5g/m\\u00b3\",\n",
      "            \"sourceName\": \"EEA Belgium\",\n",
      "            \"averagingPeriod\": {\n",
      "              \"value\": 3600,\n",
      "              \"unit\": \"seconds\"\n",
      "            }\n",
      "          },\n",
      "          {\n",
      "            \"parameter\": \"pm25\",\n",
      "            \"value\": 4.7,\n",
      "            \"lastUpdated\": \"2023-11-01T10:00:00+00:00\",\n",
      "            \"unit\": \"\\u00b5g/m\\u00b3\",\n",
      "            \"sourceName\": \"EEA Belgium\",\n",
      "            \"averagingPeriod\": {\n",
      "              \"value\": 3600,\n",
      "              \"unit\": \"seconds\"\n",
      "            }\n",
      "          },\n",
      "          {\n",
      "            \"parameter\": \"pm10\",\n",
      "            \"value\": 10.9,\n",
      "            \"lastUpdated\": \"2023-11-01T10:00:00+00:00\",\n",
      "            \"unit\": \"\\u00b5g/m\\u00b3\",\n",
      "            \"sourceName\": \"EEA Belgium\",\n",
      "            \"averagingPeriod\": {\n",
      "              \"value\": 3600,\n",
      "              \"unit\": \"seconds\"\n",
      "            }\n",
      "          }\n",
      "        ]\n",
      "      }\n",
      "    ]\n",
      "  }\n",
      "]\n"
     ]
    }
   ],
   "source": [
    "import openaq\n",
    "\n",
    "api = openaq.OpenAQ()\n",
    "openaq_data = api.latest(city=\"Antwerpen\", limit=1)\n",
    "print(json.dumps(openaq_data, indent=2))"
   ]
  },
  {
   "cell_type": "markdown",
   "metadata": {},
   "source": [
    "## First exploration of sqs dataset\n",
    "\n",
    "Goal is to do high level analysis of the dataset. Some questions and answers below.\n",
    "\n",
    "### Are all records are unique? Yes"
   ]
  },
  {
   "cell_type": "code",
   "execution_count": 21,
   "metadata": {},
   "outputs": [
    {
     "name": "stdout",
     "output_type": "stream",
     "text": [
      "amount of unique records: 40000\n",
      "amount of records: 40000\n"
     ]
    }
   ],
   "source": [
    "# Check that all records are unique\n",
    "print(f\"amount of unique records: {len(df.unique())}\")\n",
    "print(f\"amount of records: {len(df)}\")"
   ]
  },
  {
   "cell_type": "markdown",
   "metadata": {},
   "source": [
    "### Are all readings are in Belgium? Yes"
   ]
  },
  {
   "cell_type": "code",
   "execution_count": 24,
   "metadata": {},
   "outputs": [
    {
     "name": "stdout",
     "output_type": "stream",
     "text": [
      "shape: (1,)\n",
      "Series: 'country' [str]\n",
      "[\n",
      "\t\"BE\"\n",
      "]\n"
     ]
    }
   ],
   "source": [
    "# Check if all readings are in belgium\n",
    "print(df[\"country\"].unique())"
   ]
  },
  {
   "cell_type": "markdown",
   "metadata": {},
   "source": [
    "### Is location equal to city? Yes"
   ]
  },
  {
   "cell_type": "code",
   "execution_count": 25,
   "metadata": {},
   "outputs": [
    {
     "name": "stdout",
     "output_type": "stream",
     "text": [
      "True\n"
     ]
    }
   ],
   "source": [
    "# check if location is equal to city\n",
    "print(df.select(pl.col(\"city\").alias(\"temp\")).frame_equal(df.select(pl.col(\"location\").alias(\"temp\"))))"
   ]
  },
  {
   "cell_type": "markdown",
   "metadata": {},
   "source": [
    "### Does locationID have a one to one relation with location? No: Further analysis to be performed (see below)"
   ]
  },
  {
   "cell_type": "code",
   "execution_count": 27,
   "metadata": {},
   "outputs": [
    {
     "name": "stdout",
     "output_type": "stream",
     "text": [
      "shape: (814, 2)\n",
      "┌─────────────────┬───────┐\n",
      "│ location        ┆ count │\n",
      "│ ---             ┆ ---   │\n",
      "│ str             ┆ u32   │\n",
      "╞═════════════════╪═══════╡\n",
      "│ Cornimont       ┆ 4     │\n",
      "│ Paifve          ┆ 4     │\n",
      "│ Vyle-Et-Tharoul ┆ 4     │\n",
      "│ Arc-Wattripont  ┆ 3     │\n",
      "│ …               ┆ …     │\n",
      "│ Dourbes         ┆ 1     │\n",
      "│ Itterbeek       ┆ 1     │\n",
      "│ Vezin           ┆ 1     │\n",
      "│ Furfooz         ┆ 1     │\n",
      "└─────────────────┴───────┘\n"
     ]
    }
   ],
   "source": [
    "# check if locationId links to location\n",
    "print(df.group_by([\"location\", \"locationId\"]).agg(pl.count()).group_by(\"location\").agg(pl.count()).sort(\"count\", descending=True))\n",
    "# spot check\n",
    "# print(df.group_by([\"location\", \"locationId\"]).agg(pl.count()).filter(pl.col(\"location\") == \"Paifve\"))"
   ]
  },
  {
   "cell_type": "markdown",
   "metadata": {},
   "source": [
    "### What is the meaning of parameter?\n",
    "Parameter corresponds to a pollutant type. This can be found on the openaq website (https://explore.openaq.org/). SQS data contains a subset of all the available pollutants: pm10, o3, pm25, no2, so2, co. A distinction can be made between\n",
    "    - partical indicators (pm10, pm25): these can be reduced by a mechanical filter\n",
    "    - chemical indicators (o3, so2, no2, co): these pollutants most likely require chemical filtration systems"
   ]
  },
  {
   "cell_type": "code",
   "execution_count": 28,
   "metadata": {},
   "outputs": [
    {
     "name": "stdout",
     "output_type": "stream",
     "text": [
      "shape: (6,)\n",
      "Series: 'parameter' [str]\n",
      "[\n",
      "\t\"pm25\"\n",
      "\t\"o3\"\n",
      "\t\"so2\"\n",
      "\t\"pm10\"\n",
      "\t\"co\"\n",
      "\t\"no2\"\n",
      "]\n"
     ]
    }
   ],
   "source": [
    "# Check parameters\n",
    "print(df[\"parameter\"].unique())"
   ]
  },
  {
   "cell_type": "markdown",
   "metadata": {},
   "source": [
    "### Meaning of:\n",
    "\n",
    "What is the meaning of isMobile and isAnalysis\n",
    "- Can both be true or false. Logic interpretation\n",
    "    - Analysis could refer to a more elaborate type measurements that requires offline processing of samples\n",
    "    - Mobile could refer to a measurement performed by mobile equipment\n",
    "What is the meaning of entity\n",
    "- This data seems not to have any relation to the measurements and therefore does not seem relevant\n",
    "\n",
    "What is the meaning of sensorType?\n",
    "- Could refer to quality of measurement"
   ]
  },
  {
   "cell_type": "code",
   "execution_count": 31,
   "metadata": {},
   "outputs": [
    {
     "name": "stdout",
     "output_type": "stream",
     "text": [
      "shape: (2,)\n",
      "Series: 'isMobile' [bool]\n",
      "[\n",
      "\ttrue\n",
      "\tfalse\n",
      "]\n",
      "shape: (2,)\n",
      "Series: 'isAnalysis' [bool]\n",
      "[\n",
      "\ttrue\n",
      "\tfalse\n",
      "]\n",
      "shape: (10,)\n",
      "Series: 'entity' [str]\n",
      "[\n",
      "\t\"study\"\n",
      "\t\"special\"\n",
      "\t\"or\"\n",
      "\t\"become\"\n",
      "\t\"woman\"\n",
      "\t\"our\"\n",
      "\t\"suffer\"\n",
      "\t\"upon\"\n",
      "\t\"performance\"\n",
      "\t\"stock\"\n",
      "]\n",
      "shape: (2,)\n",
      "Series: 'sensorType' [str]\n",
      "[\n",
      "\t\"reference grad…\n",
      "\t\"low-cost\"\n",
      "]\n"
     ]
    }
   ],
   "source": [
    "# Check meaning of columns\n",
    "print(df[\"isMobile\"].unique())\n",
    "\n",
    "# Check meaning of columns\n",
    "print(df[\"isAnalysis\"].unique())\n",
    "# True or false. Bot clear what is meaning. Is not in public dataset\n",
    "\n",
    "# Check meaning of columns\n",
    "print(df[\"entity\"].unique().head())\n",
    "# Data seems to have random values. Is probably faulty column. Is not in public dataset\n",
    "\n",
    "# Check meaning of columns\n",
    "print(df[\"sensorType\"].unique())\n",
    "# low cost or reference. Most likely is indicater on measurement accuracy. Is not in public dataset"
   ]
  },
  {
   "cell_type": "markdown",
   "metadata": {},
   "source": [
    "## Check completeness of data in the time domain\n",
    "\n",
    "The request is to have data averaged over a 3 hour period. This means that we should have at least 2 measurements per 3 hours. Below we make an analysis of the measurement frequency.\n",
    "\n",
    "Remark: care must be taken if not all messages are taken from the queue. This might result in missing messages, hence a lower calculated period.\n"
   ]
  },
  {
   "cell_type": "code",
   "execution_count": 5,
   "metadata": {},
   "outputs": [
    {
     "data": {
      "text/html": [
       "<div><style>\n",
       ".dataframe > thead > tr > th,\n",
       ".dataframe > tbody > tr > td {\n",
       "  text-align: right;\n",
       "  white-space: pre-wrap;\n",
       "}\n",
       "</style>\n",
       "<small>shape: (10, 9)</small><table border=\"1\" class=\"dataframe\"><thead><tr><th>location</th><th>pm10</th><th>so2</th><th>o3</th><th>co</th><th>no2</th><th>pm25</th><th>count</th><th>mean_period_h</th></tr><tr><td>str</td><td>f64</td><td>f64</td><td>f64</td><td>f64</td><td>f64</td><td>f64</td><td>u32</td><td>f64</td></tr></thead><tbody><tr><td>&quot;Vyle-Et-Tharou…</td><td>2.025265</td><td>1.462478</td><td>1.627021</td><td>1.553759</td><td>1.922638</td><td>2.043049</td><td>245</td><td>1.772368</td></tr><tr><td>&quot;Cornimont&quot;</td><td>1.859706</td><td>2.914249</td><td>1.445548</td><td>2.902981</td><td>1.520261</td><td>2.803506</td><td>196</td><td>2.241042</td></tr><tr><td>&quot;Saint-Médard&quot;</td><td>2.927154</td><td>3.070822</td><td>1.985905</td><td>3.078161</td><td>1.912656</td><td>2.815838</td><td>160</td><td>2.631756</td></tr><tr><td>&quot;Shape&quot;</td><td>3.172489</td><td>2.935608</td><td>2.917756</td><td>2.798916</td><td>2.813268</td><td>2.89603</td><td>142</td><td>2.922345</td></tr><tr><td>&quot;Daussoulx&quot;</td><td>5.527231</td><td>5.589222</td><td>1.940567</td><td>3.154271</td><td>1.94134</td><td>3.057744</td><td>141</td><td>3.535062</td></tr><tr><td>&quot;Engelmanshoven…</td><td>3.040244</td><td>2.93335</td><td>2.917287</td><td>2.94027</td><td>2.923266</td><td>2.9194</td><td>139</td><td>2.945636</td></tr><tr><td>&quot;Haut-Ittre&quot;</td><td>2.892803</td><td>3.042628</td><td>2.939235</td><td>2.913121</td><td>2.896445</td><td>2.792265</td><td>136</td><td>2.912749</td></tr><tr><td>&quot;Wavreille&quot;</td><td>3.073616</td><td>2.919655</td><td>2.885802</td><td>2.904532</td><td>3.049045</td><td>2.893917</td><td>136</td><td>2.954428</td></tr><tr><td>&quot;Meerbeek&quot;</td><td>2.935947</td><td>2.806618</td><td>2.92718</td><td>2.811225</td><td>2.792312</td><td>2.93911</td><td>135</td><td>2.868732</td></tr><tr><td>&quot;Grandmenil&quot;</td><td>2.913024</td><td>2.747328</td><td>2.91274</td><td>2.940126</td><td>1.86906</td><td>5.528892</td><td>133</td><td>3.151861</td></tr></tbody></table></div>"
      ],
      "text/plain": [
       "shape: (10, 9)\n",
       "┌───────────────┬──────────┬──────────┬──────────┬───┬──────────┬──────────┬───────┬───────────────┐\n",
       "│ location      ┆ pm10     ┆ so2      ┆ o3       ┆ … ┆ no2      ┆ pm25     ┆ count ┆ mean_period_h │\n",
       "│ ---           ┆ ---      ┆ ---      ┆ ---      ┆   ┆ ---      ┆ ---      ┆ ---   ┆ ---           │\n",
       "│ str           ┆ f64      ┆ f64      ┆ f64      ┆   ┆ f64      ┆ f64      ┆ u32   ┆ f64           │\n",
       "╞═══════════════╪══════════╪══════════╪══════════╪═══╪══════════╪══════════╪═══════╪═══════════════╡\n",
       "│ Vyle-Et-Tharo ┆ 2.025265 ┆ 1.462478 ┆ 1.627021 ┆ … ┆ 1.922638 ┆ 2.043049 ┆ 245   ┆ 1.772368      │\n",
       "│ ul            ┆          ┆          ┆          ┆   ┆          ┆          ┆       ┆               │\n",
       "│ Cornimont     ┆ 1.859706 ┆ 2.914249 ┆ 1.445548 ┆ … ┆ 1.520261 ┆ 2.803506 ┆ 196   ┆ 2.241042      │\n",
       "│ Saint-Médard  ┆ 2.927154 ┆ 3.070822 ┆ 1.985905 ┆ … ┆ 1.912656 ┆ 2.815838 ┆ 160   ┆ 2.631756      │\n",
       "│ Shape         ┆ 3.172489 ┆ 2.935608 ┆ 2.917756 ┆ … ┆ 2.813268 ┆ 2.89603  ┆ 142   ┆ 2.922345      │\n",
       "│ …             ┆ …        ┆ …        ┆ …        ┆ … ┆ …        ┆ …        ┆ …     ┆ …             │\n",
       "│ Haut-Ittre    ┆ 2.892803 ┆ 3.042628 ┆ 2.939235 ┆ … ┆ 2.896445 ┆ 2.792265 ┆ 136   ┆ 2.912749      │\n",
       "│ Wavreille     ┆ 3.073616 ┆ 2.919655 ┆ 2.885802 ┆ … ┆ 3.049045 ┆ 2.893917 ┆ 136   ┆ 2.954428      │\n",
       "│ Meerbeek      ┆ 2.935947 ┆ 2.806618 ┆ 2.92718  ┆ … ┆ 2.792312 ┆ 2.93911  ┆ 135   ┆ 2.868732      │\n",
       "│ Grandmenil    ┆ 2.913024 ┆ 2.747328 ┆ 2.91274  ┆ … ┆ 1.86906  ┆ 5.528892 ┆ 133   ┆ 3.151861      │\n",
       "└───────────────┴──────────┴──────────┴──────────┴───┴──────────┴──────────┴───────┴───────────────┘"
      ]
     },
     "execution_count": 5,
     "metadata": {},
     "output_type": "execute_result"
    }
   ],
   "source": [
    "# Get total amount of measurements for a location\n",
    "df_agg_loc = df_messages.group_by([\"location\"]).agg(pl.count())\n",
    "\n",
    "# Get mean measurement period per location and parameter\n",
    "df_agg_period = df_messages.group_by([\"location\", \"parameter\"]).agg([\n",
    "    pl.count(),\n",
    "    pl.col(\"local\").min().alias(\"local_min\"),\n",
    "    pl.col(\"local\").max().alias(\"local_max\")\n",
    "    ])\n",
    "df_agg_period = df_agg_period.with_columns(((pl.col(\"local_max\") - pl.col(\"local_min\"))).alias(\"time_range\"))\n",
    "df_agg_period = df_agg_period.with_columns((pl.col(\"time_range\") / pl.col(\"count\") / 1000000 / 3600).alias(\"period_h\"))\n",
    "\n",
    "# get the mean measurement period per location\n",
    "df_agg_mean_period = df_agg_period.group_by([\"location\"]).agg(pl.col(\"period_h\").mean().alias(\"mean_period_h\"))\n",
    "\n",
    "\n",
    "# combine into pivot table\n",
    "df_pivot = df_agg_period.pivot(\"period_h\", [\"location\"], \"parameter\", aggregate_function=\"mean\")\n",
    "df_pivot = df_pivot.join(df_agg_loc, on=\"location\").join(df_agg_mean_period, on=\"location\")\n",
    "df_pivot.sort(\"count\", descending=True).head(10)"
   ]
  },
  {
   "cell_type": "code",
   "execution_count": 6,
   "metadata": {},
   "outputs": [
    {
     "data": {
      "text/plain": [
       "Text(0.5, 0, 'mean period [h]')"
      ]
     },
     "execution_count": 6,
     "metadata": {},
     "output_type": "execute_result"
    },
    {
     "data": {
      "image/png": "[encoded data removed]",
      "text/plain": [
       "<Figure size 640x480 with 7 Axes>"
      ]
     },
     "metadata": {},
     "output_type": "display_data"
    }
   ],
   "source": [
    "# visualize in histogram\n",
    "cols = [\"no2\", \"o3\", \"so2\", \"co\", \"pm25\", \"pm10\", \"mean_period_h\"]\n",
    "_, axes = plt.subplots(len(cols))\n",
    "for col, ax in zip(cols, axes):\n",
    "    ax.hist(df_pivot[col].to_numpy(), bins=50)\n",
    "    ax.set_title(col)\n",
    "    ax.set_yscale(\"log\")\n",
    "\n",
    "\n",
    "ax.set_xlabel(\"mean period [h]\")"
   ]
  },
  {
   "cell_type": "markdown",
   "metadata": {},
   "source": [
    "Conclusion: the bulk of the data has an average update period of 5-6 hours. Hence taking a 3 hour average will not be usefull. In practice this means that intra day variations will be hard to see (eg morning or evening traffic). The day to day evolution will be visible, so trends over larger periods can be shown.\n",
    "\n",
    "Possible improvements:\n",
    "- Interactive plotting\n",
    "- Check of data frequency vs location. It might be that the update rate for more interesting locations is higher"
   ]
  },
  {
   "cell_type": "markdown",
   "metadata": {},
   "source": [
    "## Analysis of the geo data\n",
    "\n",
    "As shown above, there can be multiple locationsIds per location. The idea is to aggregate the data based on location. Based on the coordinate data we will try to get some insights if this is possible. Furthermore we will do a quelity check on the the coordinate data. For this we will use the geopy library (https://pypi.org/project/geopy/) connected to the Nominatim service (https://nominatim.org/).\n",
    "\n",
    "A simple endpoint is implemented in the openaqtools.getools package. This package behaves as a coordinate store. To avoid requesting to much to the Nomatim service, it stores queried data locally.\n"
   ]
  },
  {
   "cell_type": "code",
   "execution_count": 7,
   "metadata": {},
   "outputs": [],
   "source": [
    "from geopy.geocoders import Nominatim\n",
    "from geopy import distance\n",
    "from openaqtools.geo import coordinate_store\n",
    "\n",
    "geolocator = Nominatim(user_agent=\"temp\")\n",
    "file_name = \"../data/locations.parquet\"\n",
    "cs = coordinate_store(geolocator, file_name)"
   ]
  },
  {
   "cell_type": "code",
   "execution_count": null,
   "metadata": {},
   "outputs": [],
   "source": [
    "# fill up coordinate store\n",
    "for location in df_messages[\"location\"].unique():\n",
    "    cs.get(location)"
   ]
  },
  {
   "cell_type": "code",
   "execution_count": 8,
   "metadata": {},
   "outputs": [
    {
     "name": "stdout",
     "output_type": "stream",
     "text": [
      "813\n"
     ]
    },
    {
     "data": {
      "text/html": [
       "<div><style>\n",
       ".dataframe > thead > tr > th,\n",
       ".dataframe > tbody > tr > td {\n",
       "  text-align: right;\n",
       "  white-space: pre-wrap;\n",
       "}\n",
       "</style>\n",
       "<small>shape: (5, 3)</small><table border=\"1\" class=\"dataframe\"><thead><tr><th>location</th><th>latitude</th><th>longitude</th></tr><tr><td>str</td><td>f64</td><td>f64</td></tr></thead><tbody><tr><td>&quot;Leugnies&quot;</td><td>50.2245</td><td>4.1961682</td></tr><tr><td>&quot;Ramillies&quot;</td><td>50.206087</td><td>3.2610415</td></tr><tr><td>&quot;Hertain&quot;</td><td>50.614111</td><td>3.2880161</td></tr><tr><td>&quot;Uikhoven&quot;</td><td>50.925004</td><td>5.7254553</td></tr><tr><td>&quot;Voeren&quot;</td><td>50.746555</td><td>5.839016</td></tr></tbody></table></div>"
      ],
      "text/plain": [
       "shape: (5, 3)\n",
       "┌───────────┬───────────┬───────────┐\n",
       "│ location  ┆ latitude  ┆ longitude │\n",
       "│ ---       ┆ ---       ┆ ---       │\n",
       "│ str       ┆ f64       ┆ f64       │\n",
       "╞═══════════╪═══════════╪═══════════╡\n",
       "│ Leugnies  ┆ 50.2245   ┆ 4.1961682 │\n",
       "│ Ramillies ┆ 50.206087 ┆ 3.2610415 │\n",
       "│ Hertain   ┆ 50.614111 ┆ 3.2880161 │\n",
       "│ Uikhoven  ┆ 50.925004 ┆ 5.7254553 │\n",
       "│ Voeren    ┆ 50.746555 ┆ 5.839016  │\n",
       "└───────────┴───────────┴───────────┘"
      ]
     },
     "execution_count": 8,
     "metadata": {},
     "output_type": "execute_result"
    }
   ],
   "source": [
    "print(len(cs.get_all()))\n",
    "cs.get_all().head()"
   ]
  },
  {
   "cell_type": "code",
   "execution_count": 9,
   "metadata": {},
   "outputs": [
    {
     "data": {
      "text/html": [
       "<div><style>\n",
       ".dataframe > thead > tr > th,\n",
       ".dataframe > tbody > tr > td {\n",
       "  text-align: right;\n",
       "  white-space: pre-wrap;\n",
       "}\n",
       "</style>\n",
       "<small>shape: (10, 7)</small><table border=\"1\" class=\"dataframe\"><thead><tr><th>location</th><th>mean distance</th><th>std distance</th><th>ref_latitude</th><th>ref_longitude</th><th>latitude</th><th>longitude</th></tr><tr><td>str</td><td>f64</td><td>f64</td><td>f64</td><td>f64</td><td>f64</td><td>f64</td></tr></thead><tbody><tr><td>&quot;Moen&quot;</td><td>12881.004597</td><td>0.0</td><td>7.442526</td><td>151.858495</td><td>50.769973</td><td>3.397427</td></tr><tr><td>&quot;Arbre&quot;</td><td>10495.912547</td><td>0.0</td><td>-14.693855</td><td>-75.114469</td><td>50.612404</td><td>3.816521</td></tr><tr><td>&quot;Cordes&quot;</td><td>8686.373406</td><td>0.0</td><td>34.303363</td><td>-112.166827</td><td>50.688458</td><td>3.532936</td></tr><tr><td>&quot;Roy&quot;</td><td>8197.854711</td><td>0.0</td><td>41.171536</td><td>-112.027374</td><td>50.18586</td><td>5.40707</td></tr><tr><td>&quot;Beaumont&quot;</td><td>8051.344509</td><td>0.0</td><td>30.086046</td><td>-94.101846</td><td>50.219042</td><td>4.249786</td></tr><tr><td>&quot;On&quot;</td><td>7672.552117</td><td>0.0</td><td>-18.470231</td><td>15.743442</td><td>50.17382</td><td>5.28783</td></tr><tr><td>&quot;Mont&quot;</td><td>7497.459751</td><td>0.0</td><td>47.375267</td><td>-109.638757</td><td>50.35335</td><td>4.90291</td></tr><tr><td>&quot;Corporate Vill…</td><td>7400.565029</td><td>0.0</td><td>37.13757</td><td>-93.299721</td><td>50.889898</td><td>4.4580055</td></tr><tr><td>&quot;Mal&quot;</td><td>7284.312467</td><td>0.0</td><td>26.786495</td><td>88.667818</td><td>50.768474</td><td>5.521464</td></tr><tr><td>&quot;Macon&quot;</td><td>7149.121901</td><td>0.0</td><td>32.840695</td><td>-83.632402</td><td>50.05062</td><td>4.20912</td></tr></tbody></table></div>"
      ],
      "text/plain": [
       "shape: (10, 7)\n",
       "┌───────────┬────────────────┬──────────────┬──────────────┬───────────────┬───────────┬───────────┐\n",
       "│ location  ┆ mean distance  ┆ std distance ┆ ref_latitude ┆ ref_longitude ┆ latitude  ┆ longitude │\n",
       "│ ---       ┆ ---            ┆ ---          ┆ ---          ┆ ---           ┆ ---       ┆ ---       │\n",
       "│ str       ┆ f64            ┆ f64          ┆ f64          ┆ f64           ┆ f64       ┆ f64       │\n",
       "╞═══════════╪════════════════╪══════════════╪══════════════╪═══════════════╪═══════════╪═══════════╡\n",
       "│ Moen      ┆ 12881.004597   ┆ 0.0          ┆ 7.442526     ┆ 151.858495    ┆ 50.769973 ┆ 3.397427  │\n",
       "│ Arbre     ┆ 10495.912547   ┆ 0.0          ┆ -14.693855   ┆ -75.114469    ┆ 50.612404 ┆ 3.816521  │\n",
       "│ Cordes    ┆ 8686.373406    ┆ 0.0          ┆ 34.303363    ┆ -112.166827   ┆ 50.688458 ┆ 3.532936  │\n",
       "│ Roy       ┆ 8197.854711    ┆ 0.0          ┆ 41.171536    ┆ -112.027374   ┆ 50.18586  ┆ 5.40707   │\n",
       "│ …         ┆ …              ┆ …            ┆ …            ┆ …             ┆ …         ┆ …         │\n",
       "│ Mont      ┆ 7497.459751    ┆ 0.0          ┆ 47.375267    ┆ -109.638757   ┆ 50.35335  ┆ 4.90291   │\n",
       "│ Corporate ┆ 7400.565029    ┆ 0.0          ┆ 37.13757     ┆ -93.299721    ┆ 50.889898 ┆ 4.4580055 │\n",
       "│ Village   ┆                ┆              ┆              ┆               ┆           ┆           │\n",
       "│ Mal       ┆ 7284.312467    ┆ 0.0          ┆ 26.786495    ┆ 88.667818     ┆ 50.768474 ┆ 5.521464  │\n",
       "│ Macon     ┆ 7149.121901    ┆ 0.0          ┆ 32.840695    ┆ -83.632402    ┆ 50.05062  ┆ 4.20912   │\n",
       "└───────────┴────────────────┴──────────────┴──────────────┴───────────────┴───────────┴───────────┘"
      ]
     },
     "execution_count": 9,
     "metadata": {},
     "output_type": "execute_result"
    }
   ],
   "source": [
    "# join measurement table with reference locations\n",
    "df_refloc = cs.get_all().rename({\"latitude\": \"ref_latitude\", \"longitude\": \"ref_longitude\"})\n",
    "df_locations = df_messages.join(df_refloc, on=\"location\")\n",
    "\n",
    "# calculate per measurement: distance between measurement and reference location\n",
    "df_locations = df_locations.with_columns(\n",
    "    pl.struct([\"latitude\", \"longitude\", \"ref_latitude\", \"ref_longitude\"])\n",
    "    .map_elements(lambda t: distance.distance(\n",
    "        (t[\"latitude\"],t[\"longitude\"]),\n",
    "        (t[\"ref_latitude\"],t[\"ref_longitude\"])).kilometers)\n",
    "        .alias(\"distance[km]\")\n",
    "        )\n",
    "\n",
    "# aggregate distances to mean and std\n",
    "df_locations_agg = df_locations.group_by(\"location\").agg([\n",
    "    pl.col(\"distance[km]\").mean().alias(\"mean distance\"),\n",
    "    pl.col(\"distance[km]\").std().alias(\"std distance\"),\n",
    "    pl.col(\"ref_latitude\").mean(),\n",
    "    pl.col(\"ref_longitude\").mean(),\n",
    "    pl.col(\"latitude\").mean(),\n",
    "    pl.col(\"longitude\").mean()\n",
    "    ])\n",
    "\n",
    "# show some data where mean distance is high\n",
    "df_locations_agg.sort(\"mean distance\", descending=True).head(10)\n"
   ]
  },
  {
   "cell_type": "code",
   "execution_count": 10,
   "metadata": {},
   "outputs": [
    {
     "data": {
      "text/html": [
       "<div><style>\n",
       ".dataframe > thead > tr > th,\n",
       ".dataframe > tbody > tr > td {\n",
       "  text-align: right;\n",
       "  white-space: pre-wrap;\n",
       "}\n",
       "</style>\n",
       "<small>shape: (10, 7)</small><table border=\"1\" class=\"dataframe\"><thead><tr><th>location</th><th>mean distance</th><th>std distance</th><th>ref_latitude</th><th>ref_longitude</th><th>latitude</th><th>longitude</th></tr><tr><td>str</td><td>f64</td><td>f64</td><td>f64</td><td>f64</td><td>f64</td><td>f64</td></tr></thead><tbody><tr><td>&quot;Nieuwerkerken&quot;</td><td>21.25932</td><td>36.36576</td><td>50.865363</td><td>5.193901</td><td>50.879419</td><td>4.892688</td></tr><tr><td>&quot;Sint-Maria-Oud…</td><td>0.412971</td><td>0.605334</td><td>50.833845</td><td>3.794944</td><td>50.830762</td><td>3.793697</td></tr><tr><td>&quot;Ooike&quot;</td><td>1.069575</td><td>0.059811</td><td>50.873362</td><td>3.566119</td><td>50.868717</td><td>3.564113</td></tr><tr><td>&quot;Le Mesnil&quot;</td><td>465.07216</td><td>0.0</td><td>49.369237</td><td>-1.69587</td><td>50.031352</td><td>4.671644</td></tr><tr><td>&quot;Rossignol&quot;</td><td>0.145412</td><td>0.0</td><td>49.718767</td><td>5.4851582</td><td>49.717501</td><td>5.48566</td></tr><tr><td>&quot;Huccorgne&quot;</td><td>0.064515</td><td>0.0</td><td>50.56759</td><td>5.164762</td><td>50.567277</td><td>5.165528</td></tr><tr><td>&quot;Bilzen&quot;</td><td>0.162203</td><td>0.0</td><td>50.870779</td><td>5.518109</td><td>50.871905</td><td>5.516646</td></tr><tr><td>&quot;Vissenaken&quot;</td><td>0.859295</td><td>0.0</td><td>50.837991</td><td>4.917029</td><td>50.83768</td><td>4.90484</td></tr><tr><td>&quot;Angre&quot;</td><td>0.246633</td><td>0.0</td><td>50.366983</td><td>3.695451</td><td>50.36839</td><td>3.69813</td></tr><tr><td>&quot;Ninove&quot;</td><td>1.721788</td><td>0.0</td><td>50.821455</td><td>4.003742</td><td>50.833644</td><td>4.018803</td></tr></tbody></table></div>"
      ],
      "text/plain": [
       "shape: (10, 7)\n",
       "┌────────────────┬───────────┬──────────────┬──────────────┬───────────────┬───────────┬───────────┐\n",
       "│ location       ┆ mean      ┆ std distance ┆ ref_latitude ┆ ref_longitude ┆ latitude  ┆ longitude │\n",
       "│ ---            ┆ distance  ┆ ---          ┆ ---          ┆ ---           ┆ ---       ┆ ---       │\n",
       "│ str            ┆ ---       ┆ f64          ┆ f64          ┆ f64           ┆ f64       ┆ f64       │\n",
       "│                ┆ f64       ┆              ┆              ┆               ┆           ┆           │\n",
       "╞════════════════╪═══════════╪══════════════╪══════════════╪═══════════════╪═══════════╪═══════════╡\n",
       "│ Nieuwerkerken  ┆ 21.25932  ┆ 36.36576     ┆ 50.865363    ┆ 5.193901      ┆ 50.879419 ┆ 4.892688  │\n",
       "│ Sint-Maria-Oud ┆ 0.412971  ┆ 0.605334     ┆ 50.833845    ┆ 3.794944      ┆ 50.830762 ┆ 3.793697  │\n",
       "│ enhove         ┆           ┆              ┆              ┆               ┆           ┆           │\n",
       "│ Ooike          ┆ 1.069575  ┆ 0.059811     ┆ 50.873362    ┆ 3.566119      ┆ 50.868717 ┆ 3.564113  │\n",
       "│ Le Mesnil      ┆ 465.07216 ┆ 0.0          ┆ 49.369237    ┆ -1.69587      ┆ 50.031352 ┆ 4.671644  │\n",
       "│ …              ┆ …         ┆ …            ┆ …            ┆ …             ┆ …         ┆ …         │\n",
       "│ Bilzen         ┆ 0.162203  ┆ 0.0          ┆ 50.870779    ┆ 5.518109      ┆ 50.871905 ┆ 5.516646  │\n",
       "│ Vissenaken     ┆ 0.859295  ┆ 0.0          ┆ 50.837991    ┆ 4.917029      ┆ 50.83768  ┆ 4.90484   │\n",
       "│ Angre          ┆ 0.246633  ┆ 0.0          ┆ 50.366983    ┆ 3.695451      ┆ 50.36839  ┆ 3.69813   │\n",
       "│ Ninove         ┆ 1.721788  ┆ 0.0          ┆ 50.821455    ┆ 4.003742      ┆ 50.833644 ┆ 4.018803  │\n",
       "└────────────────┴───────────┴──────────────┴──────────────┴───────────────┴───────────┴───────────┘"
      ]
     },
     "execution_count": 10,
     "metadata": {},
     "output_type": "execute_result"
    }
   ],
   "source": [
    "# show some data where std distance is big\n",
    "df_locations_agg.sort(\"std distance\", descending=True).head(10)"
   ]
  },
  {
   "cell_type": "code",
   "execution_count": 11,
   "metadata": {},
   "outputs": [
    {
     "data": {
      "text/plain": [
       "Text(0.5, 0, 'mean period [h]')"
      ]
     },
     "execution_count": 11,
     "metadata": {},
     "output_type": "execute_result"
    },
    {
     "data": {
      "image/png": "[encoded data removed]",
      "text/plain": [
       "<Figure size 640x480 with 2 Axes>"
      ]
     },
     "metadata": {},
     "output_type": "display_data"
    }
   ],
   "source": [
    "# visualize in histogram\n",
    "cols = [\"mean distance\", \"std distance\"]\n",
    "_, axes = plt.subplots(len(cols))\n",
    "for col, ax in zip(cols, axes):\n",
    "    ax.hist(df_locations_agg[col].to_numpy(), bins=100)\n",
    "    ax.set_title(col)\n",
    "    ax.set_yscale('log')\n",
    "\n",
    "ax.set_xlabel(\"mean period [h]\")"
   ]
  },
  {
   "cell_type": "markdown",
   "metadata": {},
   "source": [
    "Conclusion:\n",
    "- There are a few dozen measurements with coordinates that are significantly different from the reference location. Most likely this is due to different location identification in the Nomatim service so not issue in the data detected.\n",
    "- The standard deviation on the coordinates is 0 except for 3 locations. This means that the coordinates have a high data quality\n",
    "\n"
   ]
  },
  {
   "cell_type": "markdown",
   "metadata": {},
   "source": [
    "## Overall conclusion\n",
    "\n",
    "In this notebook we did a first exploration of the data. Some findings:\n",
    "- The queue has an ingestion of data every 6h of +- 3500 messages (not checked in this notebook but van be seen from AWS queue monitoring)\n",
    "- We have data on 6 pollutants in Belgium, spread over 814 locations\n",
    "- There are some attribites from which the meaning is not clear. Only the entity attribute is probably not related to the data\n",
    "- A part of the data has an update rate of +-2h, while the bulk of the data has an update rate of +- 5,5h. Calculating a 3h avergage will hence not be possible for all the data\n",
    "- The location information has a good quality. We can aggregate based on location"
   ]
  },
  {
   "cell_type": "code",
   "execution_count": null,
   "metadata": {},
   "outputs": [],
   "source": []
  }
 ],
 "metadata": {
  "kernelspec": {
   "display_name": "Python 3 (ipykernel)",
   "language": "python",
   "name": "python3"
  },
  "language_info": {
   "codemirror_mode": {
    "name": "ipython",
    "version": 3
   },
   "file_extension": ".py",
   "mimetype": "text/x-python",
   "name": "python",
   "nbconvert_exporter": "python",
   "pygments_lexer": "ipython3",
   "version": "3.8.0"
  }
 },
 "nbformat": 4,
 "nbformat_minor": 4
}
