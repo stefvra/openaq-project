{
 "cells": [
  {
   "cell_type": "markdown",
   "metadata": {},
   "source": [
    "# Exploration of openaq data\n",
    "\n",
    "This notebook explains the exploration of openaq sqs data. The goal is to:\n",
    "- Read in openaq sqs data\n",
    "- Have an understanding of the different attributes\n",
    "- Perform a comparison with public openaq data\n",
    "- Perform a more in depth study on\n",
    "    - Location attributes\n",
    "    - data frequency and completeness\n"
   ]
  },
  {
   "cell_type": "code",
   "execution_count": 8,
   "metadata": {},
   "outputs": [],
   "source": [
    "# imports and environment setup\n",
    "import json\n",
    "import sys\n",
    "import logging\n",
    "\n",
    "import boto3\n",
    "\n",
    "import polars as pl\n",
    "%matplotlib widget\n",
    "import matplotlib.pyplot as plt\n",
    "\n",
    "\n",
    "from geopy.geocoders import Nominatim\n",
    "from geopy import distance\n",
    "\n",
    "sys.path.append(\"../config\")\n",
    "from _secrets import profile_name, region_name, queue_url\n",
    "\n",
    "\n",
    "logging.basicConfig(level=logging.INFO)\n",
    "#logging.basicConfig(format='%(asctime)s - %(name)s - %(levelname)s - %(message)s')\n",
    "\n",
    "boto3.setup_default_session(profile_name=profile_name)\n"
   ]
  },
  {
   "cell_type": "markdown",
   "metadata": {},
   "source": [
    "## Read in openaq sqs messages\n",
    "\n",
    "Messages are read in from the queue and saved locally. The functionallity to get the messages is implemented in the openaqtools.sqs library and is based on ther boto3 package. The extra functionallity allows to get all the messages on the queue as well as transforming them to a polars dataframe. The process of saving the data locally is not included, hence is executed manually in the code below.\n",
    "\n",
    "Possible improvements:\n",
    "- Logging mechanism in Jupyter notebook was not functioning correctly so loggings al set as warnings\n",
    "- Currently only the content of the message is processed. Metadata could also be explored\n",
    "- Automation of local storage. Currently local storage could accidentaly be overwritten.\n"
   ]
  },
  {
   "cell_type": "code",
   "execution_count": 2,
   "metadata": {},
   "outputs": [
    {
     "data": {
      "text/html": [
       "<div><style>\n",
       ".dataframe > thead > tr > th,\n",
       ".dataframe > tbody > tr > td {\n",
       "  text-align: right;\n",
       "  white-space: pre-wrap;\n",
       "}\n",
       "</style>\n",
       "<small>shape: (5, 15)</small><table border=\"1\" class=\"dataframe\"><thead><tr><th>locationId</th><th>location</th><th>parameter</th><th>value</th><th>utc</th><th>local</th><th>unit</th><th>latitude</th><th>longitude</th><th>country</th><th>city</th><th>isMobile</th><th>isAnalysis</th><th>entity</th><th>sensorType</th></tr><tr><td>i64</td><td>str</td><td>str</td><td>f64</td><td>datetime[μs]</td><td>datetime[μs, UTC]</td><td>str</td><td>f64</td><td>f64</td><td>str</td><td>str</td><td>bool</td><td>bool</td><td>str</td><td>str</td></tr></thead><tbody><tr><td>3450</td><td>&quot;Massenhoven&quot;</td><td>&quot;pm10&quot;</td><td>22.824282</td><td>2023-10-28 16:16:54.554860</td><td>2023-10-28 14:16:54.554860 UTC</td><td>&quot;µg/m³&quot;</td><td>51.198627</td><td>4.6364247</td><td>&quot;BE&quot;</td><td>&quot;Massenhoven&quot;</td><td>true</td><td>true</td><td>&quot;radio&quot;</td><td>&quot;low-cost&quot;</td></tr><tr><td>3450</td><td>&quot;Massenhoven&quot;</td><td>&quot;pm25&quot;</td><td>1.63125</td><td>2023-10-28 17:11:41.554582</td><td>2023-10-28 15:11:41.554582 UTC</td><td>&quot;µg/m³&quot;</td><td>51.198627</td><td>4.6364247</td><td>&quot;BE&quot;</td><td>&quot;Massenhoven&quot;</td><td>true</td><td>true</td><td>&quot;radio&quot;</td><td>&quot;low-cost&quot;</td></tr><tr><td>3119</td><td>&quot;Goetsenhoven&quot;</td><td>&quot;pm25&quot;</td><td>8.7466</td><td>2023-10-28 16:19:09.553996</td><td>2023-10-28 14:19:09.553996 UTC</td><td>&quot;µg/m³&quot;</td><td>50.76781</td><td>4.95114</td><td>&quot;BE&quot;</td><td>&quot;Goetsenhoven&quot;</td><td>false</td><td>true</td><td>&quot;hot&quot;</td><td>&quot;reference grad…</td></tr><tr><td>8857</td><td>&quot;Watervliet&quot;</td><td>&quot;no2&quot;</td><td>99.9</td><td>2023-10-28 16:33:48.553533</td><td>2023-10-28 14:33:48.553533 UTC</td><td>&quot;µg/m³&quot;</td><td>51.276517</td><td>3.6270198</td><td>&quot;BE&quot;</td><td>&quot;Watervliet&quot;</td><td>false</td><td>false</td><td>&quot;particularly&quot;</td><td>&quot;low-cost&quot;</td></tr><tr><td>8857</td><td>&quot;Watervliet&quot;</td><td>&quot;pm25&quot;</td><td>11.508267</td><td>2023-10-28 16:28:30.553649</td><td>2023-10-28 14:28:30.553649 UTC</td><td>&quot;µg/m³&quot;</td><td>51.276517</td><td>3.6270198</td><td>&quot;BE&quot;</td><td>&quot;Watervliet&quot;</td><td>false</td><td>false</td><td>&quot;particularly&quot;</td><td>&quot;low-cost&quot;</td></tr></tbody></table></div>"
      ],
      "text/plain": [
       "shape: (5, 15)\n",
       "┌───────────┬───────────┬───────────┬───────────┬───┬──────────┬───────────┬───────────┬───────────┐\n",
       "│ locationI ┆ location  ┆ parameter ┆ value     ┆ … ┆ isMobile ┆ isAnalysi ┆ entity    ┆ sensorTyp │\n",
       "│ d         ┆ ---       ┆ ---       ┆ ---       ┆   ┆ ---      ┆ s         ┆ ---       ┆ e         │\n",
       "│ ---       ┆ str       ┆ str       ┆ f64       ┆   ┆ bool     ┆ ---       ┆ str       ┆ ---       │\n",
       "│ i64       ┆           ┆           ┆           ┆   ┆          ┆ bool      ┆           ┆ str       │\n",
       "╞═══════════╪═══════════╪═══════════╪═══════════╪═══╪══════════╪═══════════╪═══════════╪═══════════╡\n",
       "│ 3450      ┆ Massenhov ┆ pm10      ┆ 22.824282 ┆ … ┆ true     ┆ true      ┆ radio     ┆ low-cost  │\n",
       "│           ┆ en        ┆           ┆           ┆   ┆          ┆           ┆           ┆           │\n",
       "│ 3450      ┆ Massenhov ┆ pm25      ┆ 1.63125   ┆ … ┆ true     ┆ true      ┆ radio     ┆ low-cost  │\n",
       "│           ┆ en        ┆           ┆           ┆   ┆          ┆           ┆           ┆           │\n",
       "│ 3119      ┆ Goetsenho ┆ pm25      ┆ 8.7466    ┆ … ┆ false    ┆ true      ┆ hot       ┆ reference │\n",
       "│           ┆ ven       ┆           ┆           ┆   ┆          ┆           ┆           ┆ grade     │\n",
       "│ 8857      ┆ Watervlie ┆ no2       ┆ 99.9      ┆ … ┆ false    ┆ false     ┆ particula ┆ low-cost  │\n",
       "│           ┆ t         ┆           ┆           ┆   ┆          ┆           ┆ rly       ┆           │\n",
       "│ 8857      ┆ Watervlie ┆ pm25      ┆ 11.508267 ┆ … ┆ false    ┆ false     ┆ particula ┆ low-cost  │\n",
       "│           ┆ t         ┆           ┆           ┆   ┆          ┆           ┆ rly       ┆           │\n",
       "└───────────┴───────────┴───────────┴───────────┴───┴──────────┴───────────┴───────────┴───────────┘"
      ]
     },
     "execution_count": 2,
     "metadata": {},
     "output_type": "execute_result"
    }
   ],
   "source": [
    "from openaqtools.sqs import receive_messages, messages_to_df\n",
    "\n",
    "message_filename = \"../data/messages.parquet\"\n",
    "\n",
    "# option1: read in locally\n",
    "df_messages = pl.read_parquet(message_filename)\n",
    "\n",
    "# option2: retreive from AWS (watch out with saving to parquet!)\n",
    "# messages = receive_messages(queue_url, region_name, max_nr_messages=50)\n",
    "# df_messages = messages_to_df(messages)\n",
    "#df_messages.write_parquet(message_filename)\n",
    "\n",
    "# Basic processing of raw data\n",
    "df_messages = df_messages.unnest(\"date\", \"coordinates\")\n",
    "df_messages = df_messages.with_columns(pl.col([\"utc\", \"local\"]).str.to_datetime())\n",
    "\n",
    "# show some data\n",
    "df_messages.head()\n"
   ]
  },
  {
   "cell_type": "markdown",
   "metadata": {},
   "source": [
    "## Read in public openaq data\n",
    "\n",
    "Below we do a spotcheck to see chat is in the public dataset. The goal is to see if the same data is available. Data is fetched via a python library: https://py-openaq.readthedocs.io/en/latest/\n",
    "\n",
    "Some conclusions:\n",
    "- Data in public openaq resource is not equal to data in sqs que:\n",
    "    - Averaging periods and source name are not available in sqs data\n",
    "    - isMobile, isAnalysis, entity and sensorType are not available in public dataset"
   ]
  },
  {
   "cell_type": "code",
   "execution_count": 16,
   "metadata": {},
   "outputs": [
    {
     "name": "stdout",
     "output_type": "stream",
     "text": [
      "[\n",
      "  200,\n",
      "  {\n",
      "    \"meta\": {\n",
      "      \"name\": \"openaq-api\",\n",
      "      \"license\": \"\",\n",
      "      \"website\": \"/\",\n",
      "      \"page\": 1,\n",
      "      \"limit\": 1,\n",
      "      \"found\": 19,\n",
      "      \"pages\": 19\n",
      "    },\n",
      "    \"results\": [\n",
      "      {\n",
      "        \"location\": \"BETM802\",\n",
      "        \"city\": \"Antwerpen\",\n",
      "        \"country\": \"BE\",\n",
      "        \"coordinates\": {\n",
      "          \"latitude\": 51.2609897078635,\n",
      "          \"longitude\": 4.42439900693533\n",
      "        },\n",
      "        \"measurements\": [\n",
      "          {\n",
      "            \"parameter\": \"no2\",\n",
      "            \"value\": 10.5,\n",
      "            \"lastUpdated\": \"2023-11-01T10:00:00+00:00\",\n",
      "            \"unit\": \"\\u00b5g/m\\u00b3\",\n",
      "            \"sourceName\": \"EEA Belgium\",\n",
      "            \"averagingPeriod\": {\n",
      "              \"value\": 3600,\n",
      "              \"unit\": \"seconds\"\n",
      "            }\n",
      "          },\n",
      "          {\n",
      "            \"parameter\": \"so2\",\n",
      "            \"value\": 3.5,\n",
      "            \"lastUpdated\": \"2017-03-14T11:00:00+00:00\",\n",
      "            \"unit\": \"\\u00b5g/m\\u00b3\",\n",
      "            \"sourceName\": \"EEA Belgium\",\n",
      "            \"averagingPeriod\": {\n",
      "              \"value\": 3600,\n",
      "              \"unit\": \"seconds\"\n",
      "            }\n",
      "          },\n",
      "          {\n",
      "            \"parameter\": \"pm25\",\n",
      "            \"value\": 4.7,\n",
      "            \"lastUpdated\": \"2023-11-01T10:00:00+00:00\",\n",
      "            \"unit\": \"\\u00b5g/m\\u00b3\",\n",
      "            \"sourceName\": \"EEA Belgium\",\n",
      "            \"averagingPeriod\": {\n",
      "              \"value\": 3600,\n",
      "              \"unit\": \"seconds\"\n",
      "            }\n",
      "          },\n",
      "          {\n",
      "            \"parameter\": \"pm10\",\n",
      "            \"value\": 10.9,\n",
      "            \"lastUpdated\": \"2023-11-01T10:00:00+00:00\",\n",
      "            \"unit\": \"\\u00b5g/m\\u00b3\",\n",
      "            \"sourceName\": \"EEA Belgium\",\n",
      "            \"averagingPeriod\": {\n",
      "              \"value\": 3600,\n",
      "              \"unit\": \"seconds\"\n",
      "            }\n",
      "          }\n",
      "        ]\n",
      "      }\n",
      "    ]\n",
      "  }\n",
      "]\n"
     ]
    }
   ],
   "source": [
    "import openaq\n",
    "\n",
    "api = openaq.OpenAQ()\n",
    "openaq_data = api.latest(city=\"Antwerpen\", limit=1)\n",
    "print(json.dumps(openaq_data, indent=2))"
   ]
  },
  {
   "cell_type": "markdown",
   "metadata": {},
   "source": [
    "## First exploration of sqs dataset\n",
    "\n",
    "Goal is to do high level analysis of the dataset. Some questions and answers below.\n",
    "\n",
    "### Are all records are unique? Yes"
   ]
  },
  {
   "cell_type": "code",
   "execution_count": 21,
   "metadata": {},
   "outputs": [
    {
     "name": "stdout",
     "output_type": "stream",
     "text": [
      "amount of unique records: 40000\n",
      "amount of records: 40000\n"
     ]
    }
   ],
   "source": [
    "# Check that all records are unique\n",
    "print(f\"amount of unique records: {len(df.unique())}\")\n",
    "print(f\"amount of records: {len(df)}\")"
   ]
  },
  {
   "cell_type": "markdown",
   "metadata": {},
   "source": [
    "### Are all readings are in Belgium? Yes"
   ]
  },
  {
   "cell_type": "code",
   "execution_count": 24,
   "metadata": {},
   "outputs": [
    {
     "name": "stdout",
     "output_type": "stream",
     "text": [
      "shape: (1,)\n",
      "Series: 'country' [str]\n",
      "[\n",
      "\t\"BE\"\n",
      "]\n"
     ]
    }
   ],
   "source": [
    "# Check if all readings are in belgium\n",
    "print(df[\"country\"].unique())"
   ]
  },
  {
   "cell_type": "markdown",
   "metadata": {},
   "source": [
    "### Is location equal to city? Yes"
   ]
  },
  {
   "cell_type": "code",
   "execution_count": 25,
   "metadata": {},
   "outputs": [
    {
     "name": "stdout",
     "output_type": "stream",
     "text": [
      "True\n"
     ]
    }
   ],
   "source": [
    "# check if location is equal to city\n",
    "print(df.select(pl.col(\"city\").alias(\"temp\")).frame_equal(df.select(pl.col(\"location\").alias(\"temp\"))))"
   ]
  },
  {
   "cell_type": "markdown",
   "metadata": {},
   "source": [
    "### Does locationID have a one to one relation with location? No: Further analysis to be performed (see below)"
   ]
  },
  {
   "cell_type": "code",
   "execution_count": 27,
   "metadata": {},
   "outputs": [
    {
     "name": "stdout",
     "output_type": "stream",
     "text": [
      "shape: (814, 2)\n",
      "┌─────────────────┬───────┐\n",
      "│ location        ┆ count │\n",
      "│ ---             ┆ ---   │\n",
      "│ str             ┆ u32   │\n",
      "╞═════════════════╪═══════╡\n",
      "│ Cornimont       ┆ 4     │\n",
      "│ Paifve          ┆ 4     │\n",
      "│ Vyle-Et-Tharoul ┆ 4     │\n",
      "│ Arc-Wattripont  ┆ 3     │\n",
      "│ …               ┆ …     │\n",
      "│ Dourbes         ┆ 1     │\n",
      "│ Itterbeek       ┆ 1     │\n",
      "│ Vezin           ┆ 1     │\n",
      "│ Furfooz         ┆ 1     │\n",
      "└─────────────────┴───────┘\n"
     ]
    }
   ],
   "source": [
    "# check if locationId links to location\n",
    "print(df.group_by([\"location\", \"locationId\"]).agg(pl.count()).group_by(\"location\").agg(pl.count()).sort(\"count\", descending=True))\n",
    "# spot check\n",
    "# print(df.group_by([\"location\", \"locationId\"]).agg(pl.count()).filter(pl.col(\"location\") == \"Paifve\"))"
   ]
  },
  {
   "cell_type": "markdown",
   "metadata": {},
   "source": [
    "### What is the meaning of parameter?\n",
    "Parameter corresponds to a pollutant type. This can be found on the openaq website (https://explore.openaq.org/). SQS data contains a subset of all the available pollutants: pm10, o3, pm25, no2, so2, co. A distinction can be made between\n",
    "    - partical indicators (pm10, pm25): these can be reduced by a mechanical filter\n",
    "    - chemical indicators (o3, so2, no2, co): these pollutants most likely require chemical filtration systems"
   ]
  },
  {
   "cell_type": "code",
   "execution_count": 28,
   "metadata": {},
   "outputs": [
    {
     "name": "stdout",
     "output_type": "stream",
     "text": [
      "shape: (6,)\n",
      "Series: 'parameter' [str]\n",
      "[\n",
      "\t\"pm25\"\n",
      "\t\"o3\"\n",
      "\t\"so2\"\n",
      "\t\"pm10\"\n",
      "\t\"co\"\n",
      "\t\"no2\"\n",
      "]\n"
     ]
    }
   ],
   "source": [
    "# Check parameters\n",
    "print(df[\"parameter\"].unique())"
   ]
  },
  {
   "cell_type": "markdown",
   "metadata": {},
   "source": [
    "### Meaning of:\n",
    "\n",
    "What is the meaning of isMobile and isAnalysis\n",
    "- Can both be true or false. Logic interpretation\n",
    "    - Analysis could refer to a more elaborate type measurements that requires offline processing of samples\n",
    "    - Mobile could refer to a measurement performed by mobile equipment\n",
    "What is the meaning of entity\n",
    "- This data seems not to have any relation to the measurements and therefore does not seem relevant\n",
    "\n",
    "What is the meaning of sensorType?\n",
    "- Could refer to quality of measurement"
   ]
  },
  {
   "cell_type": "code",
   "execution_count": 31,
   "metadata": {},
   "outputs": [
    {
     "name": "stdout",
     "output_type": "stream",
     "text": [
      "shape: (2,)\n",
      "Series: 'isMobile' [bool]\n",
      "[\n",
      "\ttrue\n",
      "\tfalse\n",
      "]\n",
      "shape: (2,)\n",
      "Series: 'isAnalysis' [bool]\n",
      "[\n",
      "\ttrue\n",
      "\tfalse\n",
      "]\n",
      "shape: (10,)\n",
      "Series: 'entity' [str]\n",
      "[\n",
      "\t\"study\"\n",
      "\t\"special\"\n",
      "\t\"or\"\n",
      "\t\"become\"\n",
      "\t\"woman\"\n",
      "\t\"our\"\n",
      "\t\"suffer\"\n",
      "\t\"upon\"\n",
      "\t\"performance\"\n",
      "\t\"stock\"\n",
      "]\n",
      "shape: (2,)\n",
      "Series: 'sensorType' [str]\n",
      "[\n",
      "\t\"reference grad…\n",
      "\t\"low-cost\"\n",
      "]\n"
     ]
    }
   ],
   "source": [
    "# Check meaning of columns\n",
    "print(df[\"isMobile\"].unique())\n",
    "\n",
    "# Check meaning of columns\n",
    "print(df[\"isAnalysis\"].unique())\n",
    "# True or false. Bot clear what is meaning. Is not in public dataset\n",
    "\n",
    "# Check meaning of columns\n",
    "print(df[\"entity\"].unique().head())\n",
    "# Data seems to have random values. Is probably faulty column. Is not in public dataset\n",
    "\n",
    "# Check meaning of columns\n",
    "print(df[\"sensorType\"].unique())\n",
    "# low cost or reference. Most likely is indicater on measurement accuracy. Is not in public dataset"
   ]
  },
  {
   "cell_type": "markdown",
   "metadata": {},
   "source": [
    "## Check completeness of data in the time domain\n",
    "\n",
    "The request is to have data averaged over a 3 hour period. This means that we should have at least 2 measurements per 3 hours. Below we make an analysis of the measurement frequency.\n",
    "\n",
    "Remark: care must be taken if not all messages are taken from the queue. This might result in missing messages, hence a lower calculated period.\n"
   ]
  },
  {
   "cell_type": "code",
   "execution_count": 3,
   "metadata": {},
   "outputs": [
    {
     "data": {
      "text/html": [
       "<div><style>\n",
       ".dataframe > thead > tr > th,\n",
       ".dataframe > tbody > tr > td {\n",
       "  text-align: right;\n",
       "  white-space: pre-wrap;\n",
       "}\n",
       "</style>\n",
       "<small>shape: (10, 9)</small><table border=\"1\" class=\"dataframe\"><thead><tr><th>location</th><th>pm25</th><th>co</th><th>pm10</th><th>o3</th><th>so2</th><th>no2</th><th>count</th><th>mean_period_h</th></tr><tr><td>str</td><td>f64</td><td>f64</td><td>f64</td><td>f64</td><td>f64</td><td>f64</td><td>u32</td><td>f64</td></tr></thead><tbody><tr><td>&quot;Vyle-Et-Tharou…</td><td>2.043049</td><td>1.553759</td><td>2.025265</td><td>1.627021</td><td>1.462478</td><td>1.922638</td><td>245</td><td>1.772368</td></tr><tr><td>&quot;Cornimont&quot;</td><td>2.803506</td><td>2.902981</td><td>1.859706</td><td>1.445548</td><td>2.914249</td><td>1.520261</td><td>196</td><td>2.241042</td></tr><tr><td>&quot;Saint-Médard&quot;</td><td>2.815838</td><td>3.078161</td><td>2.927154</td><td>1.985905</td><td>3.070822</td><td>1.912656</td><td>160</td><td>2.631756</td></tr><tr><td>&quot;Shape&quot;</td><td>2.89603</td><td>2.798916</td><td>3.172489</td><td>2.917756</td><td>2.935608</td><td>2.813268</td><td>142</td><td>2.922345</td></tr><tr><td>&quot;Daussoulx&quot;</td><td>3.057744</td><td>3.154271</td><td>5.527231</td><td>1.940567</td><td>5.589222</td><td>1.94134</td><td>141</td><td>3.535062</td></tr><tr><td>&quot;Engelmanshoven…</td><td>2.9194</td><td>2.94027</td><td>3.040244</td><td>2.917287</td><td>2.93335</td><td>2.923266</td><td>139</td><td>2.945636</td></tr><tr><td>&quot;Wavreille&quot;</td><td>2.893917</td><td>2.904532</td><td>3.073616</td><td>2.885802</td><td>2.919655</td><td>3.049045</td><td>136</td><td>2.954428</td></tr><tr><td>&quot;Haut-Ittre&quot;</td><td>2.792265</td><td>2.913121</td><td>2.892803</td><td>2.939235</td><td>3.042628</td><td>2.896445</td><td>136</td><td>2.912749</td></tr><tr><td>&quot;Meerbeek&quot;</td><td>2.93911</td><td>2.811225</td><td>2.935947</td><td>2.92718</td><td>2.806618</td><td>2.792312</td><td>135</td><td>2.868732</td></tr><tr><td>&quot;Grandmenil&quot;</td><td>5.528892</td><td>2.940126</td><td>2.913024</td><td>2.91274</td><td>2.747328</td><td>1.86906</td><td>133</td><td>3.151861</td></tr></tbody></table></div>"
      ],
      "text/plain": [
       "shape: (10, 9)\n",
       "┌───────────────┬──────────┬──────────┬──────────┬───┬──────────┬──────────┬───────┬───────────────┐\n",
       "│ location      ┆ pm25     ┆ co       ┆ pm10     ┆ … ┆ so2      ┆ no2      ┆ count ┆ mean_period_h │\n",
       "│ ---           ┆ ---      ┆ ---      ┆ ---      ┆   ┆ ---      ┆ ---      ┆ ---   ┆ ---           │\n",
       "│ str           ┆ f64      ┆ f64      ┆ f64      ┆   ┆ f64      ┆ f64      ┆ u32   ┆ f64           │\n",
       "╞═══════════════╪══════════╪══════════╪══════════╪═══╪══════════╪══════════╪═══════╪═══════════════╡\n",
       "│ Vyle-Et-Tharo ┆ 2.043049 ┆ 1.553759 ┆ 2.025265 ┆ … ┆ 1.462478 ┆ 1.922638 ┆ 245   ┆ 1.772368      │\n",
       "│ ul            ┆          ┆          ┆          ┆   ┆          ┆          ┆       ┆               │\n",
       "│ Cornimont     ┆ 2.803506 ┆ 2.902981 ┆ 1.859706 ┆ … ┆ 2.914249 ┆ 1.520261 ┆ 196   ┆ 2.241042      │\n",
       "│ Saint-Médard  ┆ 2.815838 ┆ 3.078161 ┆ 2.927154 ┆ … ┆ 3.070822 ┆ 1.912656 ┆ 160   ┆ 2.631756      │\n",
       "│ Shape         ┆ 2.89603  ┆ 2.798916 ┆ 3.172489 ┆ … ┆ 2.935608 ┆ 2.813268 ┆ 142   ┆ 2.922345      │\n",
       "│ …             ┆ …        ┆ …        ┆ …        ┆ … ┆ …        ┆ …        ┆ …     ┆ …             │\n",
       "│ Wavreille     ┆ 2.893917 ┆ 2.904532 ┆ 3.073616 ┆ … ┆ 2.919655 ┆ 3.049045 ┆ 136   ┆ 2.954428      │\n",
       "│ Haut-Ittre    ┆ 2.792265 ┆ 2.913121 ┆ 2.892803 ┆ … ┆ 3.042628 ┆ 2.896445 ┆ 136   ┆ 2.912749      │\n",
       "│ Meerbeek      ┆ 2.93911  ┆ 2.811225 ┆ 2.935947 ┆ … ┆ 2.806618 ┆ 2.792312 ┆ 135   ┆ 2.868732      │\n",
       "│ Grandmenil    ┆ 5.528892 ┆ 2.940126 ┆ 2.913024 ┆ … ┆ 2.747328 ┆ 1.86906  ┆ 133   ┆ 3.151861      │\n",
       "└───────────────┴──────────┴──────────┴──────────┴───┴──────────┴──────────┴───────┴───────────────┘"
      ]
     },
     "execution_count": 3,
     "metadata": {},
     "output_type": "execute_result"
    }
   ],
   "source": [
    "# Get total amount of measurements for a location\n",
    "df_agg_loc = df_messages.group_by([\"location\"]).agg(pl.count())\n",
    "\n",
    "# Get mean measurement period per location and parameter\n",
    "df_agg_period = df_messages.group_by([\"location\", \"parameter\"]).agg([\n",
    "    pl.count(),\n",
    "    pl.col(\"local\").min().alias(\"local_min\"),\n",
    "    pl.col(\"local\").max().alias(\"local_max\")\n",
    "    ])\n",
    "df_agg_period = df_agg_period.with_columns(((pl.col(\"local_max\") - pl.col(\"local_min\"))).alias(\"time_range\"))\n",
    "df_agg_period = df_agg_period.with_columns((pl.col(\"time_range\") / pl.col(\"count\") / 1000000 / 3600).alias(\"period_h\"))\n",
    "\n",
    "# get the mean measurement period per location\n",
    "df_agg_mean_period = df_agg_period.group_by([\"location\"]).agg(pl.col(\"period_h\").mean().alias(\"mean_period_h\"))\n",
    "\n",
    "\n",
    "# combine into pivot table\n",
    "df_pivot = df_agg_period.pivot(\"period_h\", [\"location\"], \"parameter\", aggregate_function=\"mean\")\n",
    "df_pivot = df_pivot.join(df_agg_loc, on=\"location\").join(df_agg_mean_period, on=\"location\")\n",
    "df_pivot.sort(\"count\", descending=True).head(10)"
   ]
  },
  {
   "cell_type": "code",
   "execution_count": 26,
   "metadata": {},
   "outputs": [
    {
     "data": {
      "text/plain": [
       "Text(0.5, 0, 'mean period [h]')"
      ]
     },
     "execution_count": 26,
     "metadata": {},
     "output_type": "execute_result"
    },
    {
     "data": {
      "application/vnd.jupyter.widget-view+json": {
       "model_id": "01f53d34b8f549a0a89c6837c6754687",
       "version_major": 2,
       "version_minor": 0
      },
      "image/png": "[encoded data removed]",
      "text/html": [
       "\n",
       "            <div style=\"display: inline-block;\">\n",
       "                <div class=\"jupyter-widgets widget-label\" style=\"text-align: center;\">\n",
       "                    Figure\n",
       "                </div>\n",
       "                <img src='data:image/png;base64,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' width=640.0/>\n",
       "            </div>\n",
       "        "
      ],
      "text/plain": [
       "Canvas(toolbar=Toolbar(toolitems=[('Home', 'Reset original view', 'home', 'home'), ('Back', 'Back to previous …"
      ]
     },
     "metadata": {},
     "output_type": "display_data"
    }
   ],
   "source": [
    "# visualize in histogram\n",
    "cols = [\"no2\", \"o3\", \"so2\", \"co\", \"pm25\", \"pm10\", \"mean_period_h\"]\n",
    "_, axes = plt.subplots(len(cols))\n",
    "for col, ax in zip(cols, axes):\n",
    "    ax.hist(df_pivot[col].to_numpy(), bins=50)\n",
    "    ax.set_title(col)\n",
    "    ax.set_yscale(\"log\")\n",
    "\n",
    "\n",
    "ax.set_xlabel(\"mean period [h]\")"
   ]
  },
  {
   "cell_type": "markdown",
   "metadata": {},
   "source": [
    "Conclusion: the bulk of the data has an average update period of 5-6 hours. Hence taking a 3 hour average will not be usefull. In practice this means that intra day variations will be hard to see (eg morning or evening traffic). The day to day evolution will be visible, so trends over larger periods can be shown.\n",
    "\n",
    "Possible improvements:\n",
    "- Interactive plotting\n",
    "- Check of data frequency vs location. It might be that the update rate for more interesting locations is higher"
   ]
  },
  {
   "cell_type": "markdown",
   "metadata": {},
   "source": [
    "## Analysis of the geo data\n",
    "\n",
    "As shown above, there can be multiple locationsIds per location. The idea is to aggregate the data based on location. Based on the coordinate data we will try to get some insights if this is possible. Furthermore we will do a quelity check on the the coordinate data. For this we will use the geopy library (https://pypi.org/project/geopy/) connected to the Nominatim service (https://nominatim.org/).\n",
    "\n",
    "A simple endpoint is implemented in the openaqtools.getools package. This package behaves as a coordinate store. To avoid requesting to much to the Nomatim service, it stores queried data locally.\n"
   ]
  },
  {
   "cell_type": "code",
   "execution_count": 15,
   "metadata": {},
   "outputs": [],
   "source": [
    "from geopy.geocoders import Nominatim\n",
    "from geopy import distance\n",
    "from openaqtools.geo import coordinate_store\n",
    "\n",
    "geolocator = Nominatim(user_agent=\"temp\")\n",
    "file_name = \"../data/locations.parquet\"\n",
    "cs = coordinate_store(geolocator, file_name)"
   ]
  },
  {
   "cell_type": "code",
   "execution_count": null,
   "metadata": {},
   "outputs": [],
   "source": [
    "# fill up coordinate store\n",
    "for location in df_messages[\"location\"].unique():\n",
    "    cs.get(location)"
   ]
  },
  {
   "cell_type": "code",
   "execution_count": 16,
   "metadata": {},
   "outputs": [
    {
     "name": "stdout",
     "output_type": "stream",
     "text": [
      "813\n"
     ]
    },
    {
     "data": {
      "text/html": [
       "<div><style>\n",
       ".dataframe > thead > tr > th,\n",
       ".dataframe > tbody > tr > td {\n",
       "  text-align: right;\n",
       "  white-space: pre-wrap;\n",
       "}\n",
       "</style>\n",
       "<small>shape: (5, 3)</small><table border=\"1\" class=\"dataframe\"><thead><tr><th>location</th><th>latitude</th><th>longitude</th></tr><tr><td>str</td><td>f64</td><td>f64</td></tr></thead><tbody><tr><td>&quot;Leugnies&quot;</td><td>50.2245</td><td>4.1961682</td></tr><tr><td>&quot;Ramillies&quot;</td><td>50.206087</td><td>3.2610415</td></tr><tr><td>&quot;Hertain&quot;</td><td>50.614111</td><td>3.2880161</td></tr><tr><td>&quot;Uikhoven&quot;</td><td>50.925004</td><td>5.7254553</td></tr><tr><td>&quot;Voeren&quot;</td><td>50.746555</td><td>5.839016</td></tr></tbody></table></div>"
      ],
      "text/plain": [
       "shape: (5, 3)\n",
       "┌───────────┬───────────┬───────────┐\n",
       "│ location  ┆ latitude  ┆ longitude │\n",
       "│ ---       ┆ ---       ┆ ---       │\n",
       "│ str       ┆ f64       ┆ f64       │\n",
       "╞═══════════╪═══════════╪═══════════╡\n",
       "│ Leugnies  ┆ 50.2245   ┆ 4.1961682 │\n",
       "│ Ramillies ┆ 50.206087 ┆ 3.2610415 │\n",
       "│ Hertain   ┆ 50.614111 ┆ 3.2880161 │\n",
       "│ Uikhoven  ┆ 50.925004 ┆ 5.7254553 │\n",
       "│ Voeren    ┆ 50.746555 ┆ 5.839016  │\n",
       "└───────────┴───────────┴───────────┘"
      ]
     },
     "execution_count": 16,
     "metadata": {},
     "output_type": "execute_result"
    }
   ],
   "source": [
    "print(len(cs.get_all()))\n",
    "cs.get_all().head()"
   ]
  },
  {
   "cell_type": "code",
   "execution_count": 21,
   "metadata": {},
   "outputs": [
    {
     "data": {
      "text/html": [
       "<div><style>\n",
       ".dataframe > thead > tr > th,\n",
       ".dataframe > tbody > tr > td {\n",
       "  text-align: right;\n",
       "  white-space: pre-wrap;\n",
       "}\n",
       "</style>\n",
       "<small>shape: (10, 7)</small><table border=\"1\" class=\"dataframe\"><thead><tr><th>location</th><th>mean distance</th><th>std distance</th><th>ref_latitude</th><th>ref_longitude</th><th>latitude</th><th>longitude</th></tr><tr><td>str</td><td>f64</td><td>f64</td><td>f64</td><td>f64</td><td>f64</td><td>f64</td></tr></thead><tbody><tr><td>&quot;Moen&quot;</td><td>12881.004597</td><td>0.0</td><td>7.442526</td><td>151.858495</td><td>50.769973</td><td>3.397427</td></tr><tr><td>&quot;Arbre&quot;</td><td>10495.912547</td><td>0.0</td><td>-14.693855</td><td>-75.114469</td><td>50.612404</td><td>3.816521</td></tr><tr><td>&quot;Cordes&quot;</td><td>8686.373406</td><td>0.0</td><td>34.303363</td><td>-112.166827</td><td>50.688458</td><td>3.532936</td></tr><tr><td>&quot;Roy&quot;</td><td>8197.854711</td><td>0.0</td><td>41.171536</td><td>-112.027374</td><td>50.18586</td><td>5.40707</td></tr><tr><td>&quot;Beaumont&quot;</td><td>8051.344509</td><td>0.0</td><td>30.086046</td><td>-94.101846</td><td>50.219042</td><td>4.249786</td></tr><tr><td>&quot;On&quot;</td><td>7672.552117</td><td>0.0</td><td>-18.470231</td><td>15.743442</td><td>50.17382</td><td>5.28783</td></tr><tr><td>&quot;Mont&quot;</td><td>7497.459751</td><td>0.0</td><td>47.375267</td><td>-109.638757</td><td>50.35335</td><td>4.90291</td></tr><tr><td>&quot;Corporate Vill…</td><td>7400.565029</td><td>0.0</td><td>37.13757</td><td>-93.299721</td><td>50.889898</td><td>4.4580055</td></tr><tr><td>&quot;Mal&quot;</td><td>7284.312467</td><td>0.0</td><td>26.786495</td><td>88.667818</td><td>50.768474</td><td>5.521464</td></tr><tr><td>&quot;Macon&quot;</td><td>7149.121901</td><td>0.0</td><td>32.840695</td><td>-83.632402</td><td>50.05062</td><td>4.20912</td></tr></tbody></table></div>"
      ],
      "text/plain": [
       "shape: (10, 7)\n",
       "┌───────────┬────────────────┬──────────────┬──────────────┬───────────────┬───────────┬───────────┐\n",
       "│ location  ┆ mean distance  ┆ std distance ┆ ref_latitude ┆ ref_longitude ┆ latitude  ┆ longitude │\n",
       "│ ---       ┆ ---            ┆ ---          ┆ ---          ┆ ---           ┆ ---       ┆ ---       │\n",
       "│ str       ┆ f64            ┆ f64          ┆ f64          ┆ f64           ┆ f64       ┆ f64       │\n",
       "╞═══════════╪════════════════╪══════════════╪══════════════╪═══════════════╪═══════════╪═══════════╡\n",
       "│ Moen      ┆ 12881.004597   ┆ 0.0          ┆ 7.442526     ┆ 151.858495    ┆ 50.769973 ┆ 3.397427  │\n",
       "│ Arbre     ┆ 10495.912547   ┆ 0.0          ┆ -14.693855   ┆ -75.114469    ┆ 50.612404 ┆ 3.816521  │\n",
       "│ Cordes    ┆ 8686.373406    ┆ 0.0          ┆ 34.303363    ┆ -112.166827   ┆ 50.688458 ┆ 3.532936  │\n",
       "│ Roy       ┆ 8197.854711    ┆ 0.0          ┆ 41.171536    ┆ -112.027374   ┆ 50.18586  ┆ 5.40707   │\n",
       "│ …         ┆ …              ┆ …            ┆ …            ┆ …             ┆ …         ┆ …         │\n",
       "│ Mont      ┆ 7497.459751    ┆ 0.0          ┆ 47.375267    ┆ -109.638757   ┆ 50.35335  ┆ 4.90291   │\n",
       "│ Corporate ┆ 7400.565029    ┆ 0.0          ┆ 37.13757     ┆ -93.299721    ┆ 50.889898 ┆ 4.4580055 │\n",
       "│ Village   ┆                ┆              ┆              ┆               ┆           ┆           │\n",
       "│ Mal       ┆ 7284.312467    ┆ 0.0          ┆ 26.786495    ┆ 88.667818     ┆ 50.768474 ┆ 5.521464  │\n",
       "│ Macon     ┆ 7149.121901    ┆ 0.0          ┆ 32.840695    ┆ -83.632402    ┆ 50.05062  ┆ 4.20912   │\n",
       "└───────────┴────────────────┴──────────────┴──────────────┴───────────────┴───────────┴───────────┘"
      ]
     },
     "execution_count": 21,
     "metadata": {},
     "output_type": "execute_result"
    }
   ],
   "source": [
    "# join measurement table with reference locations\n",
    "df_refloc = cs.get_all().rename({\"latitude\": \"ref_latitude\", \"longitude\": \"ref_longitude\"})\n",
    "df_locations = df_messages.join(df_refloc, on=\"location\")\n",
    "\n",
    "# calculate per measurement: distance between measurement and reference location\n",
    "df_locations = df_locations.with_columns(\n",
    "    pl.struct([\"latitude\", \"longitude\", \"ref_latitude\", \"ref_longitude\"])\n",
    "    .map_elements(lambda t: distance.distance(\n",
    "        (t[\"latitude\"],t[\"longitude\"]),\n",
    "        (t[\"ref_latitude\"],t[\"ref_longitude\"])).kilometers)\n",
    "        .alias(\"distance[km]\")\n",
    "        )\n",
    "\n",
    "# aggregate distances to mean and std\n",
    "df_locations_agg = df_locations.group_by(\"location\").agg([\n",
    "    pl.col(\"distance[km]\").mean().alias(\"mean distance\"),\n",
    "    pl.col(\"distance[km]\").std().alias(\"std distance\"),\n",
    "    pl.col(\"ref_latitude\").mean(),\n",
    "    pl.col(\"ref_longitude\").mean(),\n",
    "    pl.col(\"latitude\").mean(),\n",
    "    pl.col(\"longitude\").mean()\n",
    "    ])\n",
    "\n",
    "# show some data where mean distance is high\n",
    "df_locations_agg.sort(\"mean distance\", descending=True).head(10)\n"
   ]
  },
  {
   "cell_type": "code",
   "execution_count": 20,
   "metadata": {},
   "outputs": [
    {
     "data": {
      "text/html": [
       "<div><style>\n",
       ".dataframe > thead > tr > th,\n",
       ".dataframe > tbody > tr > td {\n",
       "  text-align: right;\n",
       "  white-space: pre-wrap;\n",
       "}\n",
       "</style>\n",
       "<small>shape: (10, 7)</small><table border=\"1\" class=\"dataframe\"><thead><tr><th>location</th><th>mean distance</th><th>std distance</th><th>ref_latitude</th><th>ref_longitude</th><th>latitude</th><th>longitude</th></tr><tr><td>str</td><td>f64</td><td>f64</td><td>f64</td><td>f64</td><td>f64</td><td>f64</td></tr></thead><tbody><tr><td>&quot;Nieuwerkerken&quot;</td><td>21.25932</td><td>36.36576</td><td>50.865363</td><td>5.193901</td><td>50.879419</td><td>4.892688</td></tr><tr><td>&quot;Sint-Maria-Oud…</td><td>0.412971</td><td>0.605334</td><td>50.833845</td><td>3.794944</td><td>50.830762</td><td>3.793697</td></tr><tr><td>&quot;Ooike&quot;</td><td>1.069575</td><td>0.059811</td><td>50.873362</td><td>3.566119</td><td>50.868717</td><td>3.564113</td></tr><tr><td>&quot;Breendonk&quot;</td><td>0.184631</td><td>0.0</td><td>51.042477</td><td>4.324486</td><td>51.04309</td><td>4.32204</td></tr><tr><td>&quot;Wasseiges&quot;</td><td>0.537491</td><td>0.0</td><td>50.621009</td><td>5.006907</td><td>50.61754</td><td>5.00162</td></tr><tr><td>&quot;Ans&quot;</td><td>1.58562</td><td>0.0</td><td>50.667986</td><td>5.507754</td><td>50.660213</td><td>5.526552</td></tr><tr><td>&quot;Roesbrugge-Har…</td><td>0.437882</td><td>0.0</td><td>50.915053</td><td>2.626259</td><td>50.918879</td><td>2.624796</td></tr><tr><td>&quot;Houdremont&quot;</td><td>0.066854</td><td>0.0</td><td>49.942041</td><td>4.944594</td><td>49.94148</td><td>4.94426</td></tr><tr><td>&quot;Cras-Avernas&quot;</td><td>0.084473</td><td>0.0</td><td>50.697898</td><td>5.122837</td><td>50.69733</td><td>5.12363</td></tr><tr><td>&quot;Nerem&quot;</td><td>0.088096</td><td>0.0</td><td>50.765575</td><td>5.511342</td><td>50.764996</td><td>5.510489</td></tr></tbody></table></div>"
      ],
      "text/plain": [
       "shape: (10, 7)\n",
       "┌────────────────┬──────────┬──────────────┬──────────────┬────────────────┬───────────┬───────────┐\n",
       "│ location       ┆ mean     ┆ std distance ┆ ref_latitude ┆ ref_longitude  ┆ latitude  ┆ longitude │\n",
       "│ ---            ┆ distance ┆ ---          ┆ ---          ┆ ---            ┆ ---       ┆ ---       │\n",
       "│ str            ┆ ---      ┆ f64          ┆ f64          ┆ f64            ┆ f64       ┆ f64       │\n",
       "│                ┆ f64      ┆              ┆              ┆                ┆           ┆           │\n",
       "╞════════════════╪══════════╪══════════════╪══════════════╪════════════════╪═══════════╪═══════════╡\n",
       "│ Nieuwerkerken  ┆ 21.25932 ┆ 36.36576     ┆ 50.865363    ┆ 5.193901       ┆ 50.879419 ┆ 4.892688  │\n",
       "│ Sint-Maria-Oud ┆ 0.412971 ┆ 0.605334     ┆ 50.833845    ┆ 3.794944       ┆ 50.830762 ┆ 3.793697  │\n",
       "│ enhove         ┆          ┆              ┆              ┆                ┆           ┆           │\n",
       "│ Ooike          ┆ 1.069575 ┆ 0.059811     ┆ 50.873362    ┆ 3.566119       ┆ 50.868717 ┆ 3.564113  │\n",
       "│ Breendonk      ┆ 0.184631 ┆ 0.0          ┆ 51.042477    ┆ 4.324486       ┆ 51.04309  ┆ 4.32204   │\n",
       "│ …              ┆ …        ┆ …            ┆ …            ┆ …              ┆ …         ┆ …         │\n",
       "│ Roesbrugge-Har ┆ 0.437882 ┆ 0.0          ┆ 50.915053    ┆ 2.626259       ┆ 50.918879 ┆ 2.624796  │\n",
       "│ inge           ┆          ┆              ┆              ┆                ┆           ┆           │\n",
       "│ Houdremont     ┆ 0.066854 ┆ 0.0          ┆ 49.942041    ┆ 4.944594       ┆ 49.94148  ┆ 4.94426   │\n",
       "│ Cras-Avernas   ┆ 0.084473 ┆ 0.0          ┆ 50.697898    ┆ 5.122837       ┆ 50.69733  ┆ 5.12363   │\n",
       "│ Nerem          ┆ 0.088096 ┆ 0.0          ┆ 50.765575    ┆ 5.511342       ┆ 50.764996 ┆ 5.510489  │\n",
       "└────────────────┴──────────┴──────────────┴──────────────┴────────────────┴───────────┴───────────┘"
      ]
     },
     "execution_count": 20,
     "metadata": {},
     "output_type": "execute_result"
    }
   ],
   "source": [
    "# show some data where std distance is big\n",
    "df_locations_agg.sort(\"std distance\", descending=True).head(10)"
   ]
  },
  {
   "cell_type": "code",
   "execution_count": 24,
   "metadata": {},
   "outputs": [
    {
     "data": {
      "text/plain": [
       "Text(0.5, 0, 'mean period [h]')"
      ]
     },
     "execution_count": 24,
     "metadata": {},
     "output_type": "execute_result"
    },
    {
     "data": {
      "application/vnd.jupyter.widget-view+json": {
       "model_id": "22f8224257f940e49a8824831bfffbb6",
       "version_major": 2,
       "version_minor": 0
      },
      "image/png": "[encoded data removed]",
      "text/html": [
       "\n",
       "            <div style=\"display: inline-block;\">\n",
       "                <div class=\"jupyter-widgets widget-label\" style=\"text-align: center;\">\n",
       "                    Figure\n",
       "                </div>\n",
       "                <img src='data:image/png;base64,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' width=640.0/>\n",
       "            </div>\n",
       "        "
      ],
      "text/plain": [
       "Canvas(toolbar=Toolbar(toolitems=[('Home', 'Reset original view', 'home', 'home'), ('Back', 'Back to previous …"
      ]
     },
     "metadata": {},
     "output_type": "display_data"
    }
   ],
   "source": [
    "# visualize in histogram\n",
    "cols = [\"mean distance\", \"std distance\"]\n",
    "_, axes = plt.subplots(len(cols))\n",
    "for col, ax in zip(cols, axes):\n",
    "    ax.hist(df_locations_agg[col].to_numpy(), bins=100)\n",
    "    ax.set_title(col)\n",
    "    ax.set_yscale('log')\n",
    "\n",
    "ax.set_xlabel(\"mean period [h]\")"
   ]
  },
  {
   "cell_type": "markdown",
   "metadata": {},
   "source": [
    "Conclusion:\n",
    "- There are a few dozen measurements with coordinates that are significantly different from the reference location. Most likely this is due to different location identification in the Nomatim service so not issue in the data detected.\n",
    "- The standard deviation on the coordinates is 0 except for 3 locations. This means that the coordinates have a high data quality\n",
    "\n"
   ]
  },
  {
   "cell_type": "markdown",
   "metadata": {},
   "source": [
    "## Overall conclusion\n",
    "\n",
    "In this notebook we did a first exploration of the data. Some findings:\n",
    "- The queue has an ingestion of data every 6h of +- 3500 messages (not checked in this notebook but van be seen from AWS queue monitoring)\n",
    "- We have data on 6 pollutants in Belgium, spread over 814 locations\n",
    "- There are some attribites from which the meaning is not clear. Only the entity attribute is probably not related to the data\n",
    "- A part of the data has an update rate of +-2h, while the bulk of the data has an update rate of +- 5,5h. Calculating a 3h avergage will hence not be possible for all the data\n",
    "- The location information has a good quality. We can aggregate based on location"
   ]
  }
 ],
 "metadata": {
  "kernelspec": {
   "display_name": "Python 3 (ipykernel)",
   "language": "python",
   "name": "python3"
  },
  "language_info": {
   "codemirror_mode": {
    "name": "ipython",
    "version": 3
   },
   "file_extension": ".py",
   "mimetype": "text/x-python",
   "name": "python",
   "nbconvert_exporter": "python",
   "pygments_lexer": "ipython3",
   "version": "3.8.0"
  }
 },
 "nbformat": 4,
 "nbformat_minor": 4
}
